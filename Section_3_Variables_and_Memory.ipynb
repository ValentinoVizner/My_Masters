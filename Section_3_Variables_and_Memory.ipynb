{
  "nbformat": 4,
  "nbformat_minor": 0,
  "metadata": {
    "colab": {
      "name": "Untitled4.ipynb",
      "provenance": [],
      "include_colab_link": true
    },
    "kernelspec": {
      "name": "python3",
      "display_name": "Python 3"
    },
    "accelerator": "TPU"
  },
  "cells": [
    {
      "cell_type": "markdown",
      "metadata": {
        "id": "view-in-github",
        "colab_type": "text"
      },
      "source": [
        "<a href=\"https://colab.research.google.com/github/ValentinoVizner/My_Masters/blob/master/Section_3_Variables_and_Memory.ipynb\" target=\"_parent\"><img src=\"https://colab.research.google.com/assets/colab-badge.svg\" alt=\"Open In Colab\"/></a>"
      ]
    },
    {
      "cell_type": "markdown",
      "metadata": {
        "id": "1KBFvf3wI7KX",
        "colab_type": "text"
      },
      "source": [
        "# SECTION 3. VARIABLES AND MEMORY"
      ]
    },
    {
      "cell_type": "markdown",
      "metadata": {
        "id": "1P6DZ0TvKcUA",
        "colab_type": "text"
      },
      "source": [
        "## 1. Variables Are Memory References"
      ]
    },
    {
      "cell_type": "markdown",
      "metadata": {
        "id": "inJH6xYyMPlT",
        "colab_type": "text"
      },
      "source": [
        "![alt text](https://drive.google.com/uc?id=1VdPKXbWvyWOzxXhgh12LnQWaySAmVhCn)"
      ]
    },
    {
      "cell_type": "markdown",
      "metadata": {
        "id": "-3VhD7BvMVNR",
        "colab_type": "text"
      },
      "source": [
        "When we store data in memory addresses we may actually use more than 1 slot at a time (object 1 and object 2).\n",
        "</br>\n",
        "But as long as we know where the object starts in memory thats good enough.\n",
        "</br>\n",
        "So the object 1 starts and 0x1000 and it overflows into another memory address e.g. 0x1001\n",
        "</br>\n",
        "Object 2 starts at memory address 0x1002 and it overflows into 2 more memory address.\n",
        "</br>\n",
        "While Object 3 fits preciselly into one slot of memory.\n",
        "</br>\n",
        "</br>\n",
        "**Heap** is range of memory addresses where our objects are stored.\n",
        "**Python Memory Manager** is responsible of pulling object from the **heap**"
      ]
    },
    {
      "cell_type": "markdown",
      "metadata": {
        "id": "lumHjSD_RqPo",
        "colab_type": "text"
      },
      "source": [
        "Here is an example:"
      ]
    },
    {
      "cell_type": "markdown",
      "metadata": {
        "id": "keLXicD8Vi7p",
        "colab_type": "text"
      },
      "source": [
        "![alt text](https://drive.google.com/uc?id=18UOEEgkBpnZqZDmr-Fha7t70wUukcxcd)"
      ]
    },
    {
      "cell_type": "markdown",
      "metadata": {
        "id": "KTt0dKBGbLwy",
        "colab_type": "text"
      },
      "source": [
        "We can find the memory address that a variable *references*, by using the `id()` function.\n",
        "\n",
        "The `id()` function returns the memory address of its argument as a base-10 integer.\n",
        "\n",
        "We can use the function `hex()` to convert the base-10 number to base-16."
      ]
    },
    {
      "cell_type": "code",
      "metadata": {
        "id": "PNw-dga2bKen",
        "colab_type": "code",
        "colab": {}
      },
      "source": [
        "my_var = 10\n",
        "print('my_var = {0}'.format(my_var))\n",
        "print('memory address of my_var (decimal): {0}'.format(id(my_var)))\n",
        "print('memory address of my_var (hex): {0}'.format(hex(id(my_var))))"
      ],
      "execution_count": 0,
      "outputs": []
    },
    {
      "cell_type": "code",
      "metadata": {
        "id": "zdFZ2kffNN_A",
        "colab_type": "code",
        "colab": {}
      },
      "source": [
        "greeting = 'Hello'\n",
        "print('greeting = {0}'.format(greeting))\n",
        "print('memory address of my_var (decimal): {0}'.format(id(greeting)))\n",
        "print('memory address of my_var (hex): {0}'.format(hex(id(greeting))))"
      ],
      "execution_count": 0,
      "outputs": []
    },
    {
      "cell_type": "code",
      "metadata": {
        "id": "iuGfQwvQNP8f",
        "colab_type": "code",
        "colab": {}
      },
      "source": [
        ""
      ],
      "execution_count": 0,
      "outputs": []
    },
    {
      "cell_type": "markdown",
      "metadata": {
        "id": "S8hRhD8yNSZL",
        "colab_type": "text"
      },
      "source": [
        "Note how the memory address of `my_var` is **different** from that of `greeting`.\n",
        "\n",
        "Strictly speaking, `my_var` is not \"equal\" to 10. \n",
        "\n",
        "Instead `my_var` is a **reference** to an (*integer*) object (*containing the value 10*) located at the memory address `id(my_var)`\n",
        "\n",
        "Similarly for the variable `greeting`."
      ]
    },
    {
      "cell_type": "code",
      "metadata": {
        "id": "Jgt5wkN1NTIu",
        "colab_type": "code",
        "colab": {}
      },
      "source": [
        ""
      ],
      "execution_count": 0,
      "outputs": []
    }
  ]
}